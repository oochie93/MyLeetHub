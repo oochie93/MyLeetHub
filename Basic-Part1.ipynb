{
 "cells": [
  {
   "cell_type": "code",
   "execution_count": 2,
   "metadata": {},
   "outputs": [
    {
     "name": "stdout",
     "output_type": "stream",
     "text": [
      "Twinke, twinkle, little star, \n",
      " How I wonder what you are! \n",
      " Up above the world so high, \n",
      " Like a diamond in the sky.\n",
      "Twinkle, twinkle, little star, \n",
      "\tHow I wonder what you are! \n",
      "\t\tUp above the world so high, \n",
      "\t\tLike a diamond in the sky. \n",
      "Twinkle, twinkle, little star, \n",
      "\tHow I wonder what you are!\n"
     ]
    }
   ],
   "source": [
    "#1\n",
    "print('Twinke, twinkle, little star, \\n How I wonder what you are! \\n Up above the world so high, \\n Like a diamond in the sky.')\n",
    "#solution\n",
    "print(\"Twinkle, twinkle, little star, \\n\\tHow I wonder what you are! \\n\\t\\tUp above the world so high, \\n\\t\\tLike a diamond in the sky. \\nTwinkle, twinkle, little star, \\n\\tHow I wonder what you are!\")"
   ]
  },
  {
   "cell_type": "code",
   "execution_count": 3,
   "metadata": {},
   "outputs": [
    {
     "name": "stdout",
     "output_type": "stream",
     "text": [
      "Python version\n",
      "3.10.4 (tags/v3.10.4:9d38120, Mar 23 2022, 23:13:41) [MSC v.1929 64 bit (AMD64)]\n",
      "Version info.\n",
      "sys.version_info(major=3, minor=10, micro=4, releaselevel='final', serial=0)\n"
     ]
    }
   ],
   "source": [
    "#2\n",
    "import sys #インタプリタで使用・管理している変数や、インタプリタの動作に深く関連する関数を定義\n",
    "print(\"Python version\")\n",
    "print (sys.version)\n",
    "print(\"Version info.\")\n",
    "print (sys.version_info)"
   ]
  },
  {
   "cell_type": "code",
   "execution_count": 5,
   "metadata": {},
   "outputs": [
    {
     "name": "stdout",
     "output_type": "stream",
     "text": [
      "現在の日時： 2022-11-02 22:54:28\n"
     ]
    }
   ],
   "source": [
    "#3\n",
    "import datetime\n",
    "now = datetime.datetime.now() #インスタンス生成\n",
    "print('現在の日時：',now.strftime('%Y-%m-%d %H:%M:%S'))\n"
   ]
  },
  {
   "cell_type": "code",
   "execution_count": 5,
   "metadata": {},
   "outputs": [
    {
     "name": "stdout",
     "output_type": "stream",
     "text": [
      "3.8013271108436504\n"
     ]
    }
   ],
   "source": [
    "#4\n",
    "import math\n",
    "r = float(input(\"半径を入力してください:\"))\n",
    "print(r**2*math.pi)"
   ]
  },
  {
   "cell_type": "code",
   "execution_count": 6,
   "metadata": {},
   "outputs": [
    {
     "name": "stdout",
     "output_type": "stream",
     "text": [
      "kim   kyoungah\n"
     ]
    }
   ],
   "source": [
    "#5\n",
    "first_name = str(input(\"名前を入力してください：\"))\n",
    "last_name = str(input(\"名字をを入力してください：\"))\n",
    "print(last_name , \" \",first_name)"
   ]
  },
  {
   "cell_type": "code",
   "execution_count": 31,
   "metadata": {},
   "outputs": [
    {
     "name": "stdout",
     "output_type": "stream",
     "text": [
      "List: ['3', '5', '7', '23']\n",
      "Tuple: ('3', '5', '7', '23')\n"
     ]
    }
   ],
   "source": [
    "#6\n",
    "a = input('数字を入力して下さい：')\n",
    "a = a.split(',')\n",
    "print('List:', list(a) )\n",
    "print('Tuple:', tuple(a))"
   ]
  },
  {
   "cell_type": "code",
   "execution_count": 40,
   "metadata": {},
   "outputs": [
    {
     "name": "stdout",
     "output_type": "stream",
     "text": [
      "java\n"
     ]
    }
   ],
   "source": [
    "#7\n",
    "inp = input('ファイル名を入力してください：')\n",
    "outp = inp.rsplit('.')\n",
    "outp = outp[1]\n",
    "print(outp)"
   ]
  },
  {
   "cell_type": "code",
   "execution_count": 45,
   "metadata": {},
   "outputs": [
    {
     "name": "stdout",
     "output_type": "stream",
     "text": [
      "Red Black\n"
     ]
    }
   ],
   "source": [
    "#8\n",
    "color_list = [\"Red\",\"Green\",\"White\" ,\"Black\"]\n",
    "print(color_list[0],color_list[-1])"
   ]
  },
  {
   "cell_type": "code",
   "execution_count": 59,
   "metadata": {},
   "outputs": [
    {
     "name": "stdout",
     "output_type": "stream",
     "text": [
      "試験開始日は 11 / 12 / 2014\n"
     ]
    }
   ],
   "source": [
    "#9\n",
    "exam_st_date = (11, 12, 2014)\n",
    "#exam_st_date = list(exam_st_date)\n",
    "#exam_st_date = str(exam_st_date).replace(',','/')\n",
    "\n",
    "print('試験開始日は %d / %d / %d' %exam_st_date)"
   ]
  },
  {
   "cell_type": "code",
   "execution_count": 65,
   "metadata": {},
   "outputs": [
    {
     "data": {
      "text/plain": [
       "615"
      ]
     },
     "execution_count": 65,
     "metadata": {},
     "output_type": "execute_result"
    }
   ],
   "source": [
    "#10\n",
    "a = input('数字を入力してください：')\n",
    "a = str(a)\n",
    "a2 = a + a\n",
    "a3 = a + a2\n",
    "int(a) + int(a2) + int(a3)"
   ]
  },
  {
   "cell_type": "code",
   "execution_count": 74,
   "metadata": {},
   "outputs": [
    {
     "data": {
      "text/plain": [
       "'Return the absolute value of the argument.'"
      ]
     },
     "execution_count": 74,
     "metadata": {},
     "output_type": "execute_result"
    }
   ],
   "source": [
    "#11\n",
    "abs.__doc__  #return built-in function"
   ]
  },
  {
   "cell_type": "code",
   "execution_count": 82,
   "metadata": {},
   "outputs": [
    {
     "data": {
      "text/plain": [
       "'   November 2022\\nMo Tu We Th Fr Sa Su\\n    1  2  3  4  5  6\\n 7  8  9 10 11 12 13\\n14 15 16 17 18 19 20\\n21 22 23 24 25 26 27\\n28 29 30\\n'"
      ]
     },
     "execution_count": 82,
     "metadata": {},
     "output_type": "execute_result"
    }
   ],
   "source": [
    "#12\n",
    "import calendar\n",
    "calendar.month(2022,11)"
   ]
  },
  {
   "cell_type": "code",
   "execution_count": 23,
   "metadata": {},
   "outputs": [
    {
     "name": "stdout",
     "output_type": "stream",
     "text": [
      "9 days\n",
      "9 days, 0:00:00\n"
     ]
    }
   ],
   "source": [
    "#14\n",
    "import datetime\n",
    "a = (2014, 7, 2)\n",
    "b = (2014, 7, 11)\n",
    "a1 = list(a)\n",
    "b1 = list(b)\n",
    "print(b1[2]-a1[2],'days')\n",
    "#Solution\n",
    "from datetime import date\n",
    "print(date(2014,7,11) - date(2014,7,2))"
   ]
  },
  {
   "cell_type": "code",
   "execution_count": 24,
   "metadata": {},
   "outputs": [
    {
     "data": {
      "text/plain": [
       "904.7786842338603"
      ]
     },
     "execution_count": 24,
     "metadata": {},
     "output_type": "execute_result"
    }
   ],
   "source": [
    "#15\n",
    "#The volume of a sphere = 4/3 𝜋 r³\n",
    "import math\n",
    "r = 6\n",
    "VoS = 4/3 * math.pi * r**3\n",
    "VoS"
   ]
  },
  {
   "cell_type": "code",
   "execution_count": 29,
   "metadata": {},
   "outputs": [
    {
     "name": "stdout",
     "output_type": "stream",
     "text": [
      "46.0\n"
     ]
    }
   ],
   "source": [
    "#16\n",
    "a = float(input('数字を入力してください：'))\n",
    "\n",
    "if a>17:\n",
    "    print(2*abs(a-17))\n",
    "else:\n",
    "    print('17より大きい数字を入れて下さい')\n",
    "\n",
    "\n",
    "'''\n",
    "#Solution\n",
    "def difference(n):\n",
    "    if n <= 17:\n",
    "        return 17 - n\n",
    "    else:\n",
    "        return (n - 17) * 2 \n",
    "'''"
   ]
  },
  {
   "cell_type": "code",
   "execution_count": 31,
   "metadata": {},
   "outputs": [
    {
     "name": "stdout",
     "output_type": "stream",
     "text": [
      "True\n"
     ]
    }
   ],
   "source": [
    "#17\n",
    "a = 1/15\n",
    "print(a < 1/10 and a> 1/20)\n",
    "#솔루션이랑 답 다름 이해안감"
   ]
  },
  {
   "cell_type": "code",
   "execution_count": 33,
   "metadata": {},
   "outputs": [
    {
     "name": "stdout",
     "output_type": "stream",
     "text": [
      "7\n"
     ]
    }
   ],
   "source": [
    "#18\n",
    "def threenums(a,b,c):\n",
    "    if a == b and a == c:\n",
    "        print(3*(a+b+c))\n",
    "    else:\n",
    "        print(a+b+c)\n",
    "threenums(1,3,3)"
   ]
  },
  {
   "cell_type": "code",
   "execution_count": 42,
   "metadata": {},
   "outputs": [
    {
     "name": "stdout",
     "output_type": "stream",
     "text": [
      "Isme\n",
      "Isyou\n"
     ]
    }
   ],
   "source": [
    "#19\n",
    "def addstring(a):\n",
    "    if a[0] == 'I' and a[1] == 's':\n",
    "        return a\n",
    "    else:\n",
    "        return 'Is'+a\n",
    "\n",
    "print(addstring('me'))\n",
    "print(addstring('Isyou')) \n",
    "\n",
    "#Solution\n",
    "def new_string(str):\n",
    "  if len(str) >= 2 and str[:2] == \"Is\":\n",
    "    return str\n",
    "  return \"Is\" + str"
   ]
  },
  {
   "cell_type": "code",
   "execution_count": 49,
   "metadata": {},
   "outputs": [
    {
     "data": {
      "text/plain": [
       "'testtesttest'"
      ]
     },
     "execution_count": 49,
     "metadata": {},
     "output_type": "execute_result"
    }
   ],
   "source": [
    "#20\n",
    "def numcopy(str,n):\n",
    "    if n>0:\n",
    "      return str*n\n",
    "    else:\n",
    "        return str\n",
    "numcopy('test',3)"
   ]
  },
  {
   "cell_type": "code",
   "execution_count": 53,
   "metadata": {},
   "outputs": [
    {
     "name": "stdout",
     "output_type": "stream",
     "text": [
      "odd\n"
     ]
    }
   ],
   "source": [
    "#21\n",
    "n = int(input('数字を入力してください:'))\n",
    "if n%2==0:\n",
    "    print('even')\n",
    "elif n%2==1:\n",
    "    print('odd')\n",
    "else:\n",
    "    print('整数を入力してください')\n",
    "\n"
   ]
  },
  {
   "cell_type": "code",
   "execution_count": 57,
   "metadata": {},
   "outputs": [
    {
     "data": {
      "text/plain": [
       "2"
      ]
     },
     "execution_count": 57,
     "metadata": {},
     "output_type": "execute_result"
    }
   ],
   "source": [
    "#22\n",
    "def countfour(a):\n",
    "    b=[]\n",
    "    for i in a:\n",
    "        if i == 4:\n",
    "            b.append(i)\n",
    "    return len(b)\n",
    "countfour([4,2,3,4])\n",
    "\n",
    "#solution\n",
    "def list_count_4(nums):\n",
    "  count = 0  \n",
    "  for num in nums:\n",
    "    if num == 4:\n",
    "      count = count + 1\n",
    "\n",
    "  return count"
   ]
  },
  {
   "cell_type": "code",
   "execution_count": 60,
   "metadata": {},
   "outputs": [
    {
     "name": "stdout",
     "output_type": "stream",
     "text": [
      "hh\n",
      "hehe\n"
     ]
    }
   ],
   "source": [
    "#23\n",
    "def twenythree(str,n):\n",
    "    if len(str)<2:\n",
    "        return n*str\n",
    "    else:\n",
    "        return n*str[:2]\n",
    "print(twenythree('h',2))\n",
    "print(twenythree('hello',2))"
   ]
  },
  {
   "cell_type": "code",
   "execution_count": null,
   "metadata": {},
   "outputs": [],
   "source": [
    "#23 solution\n",
    "def substring_copy(str, n):\n",
    "  flen = 2\n",
    "  if flen > len(str):\n",
    "    flen = len(str)\n",
    "  substr = str[:flen]\n",
    "  \n",
    "  result = \"\"\n",
    "  for i in range(n):\n",
    "    result = result + substr\n",
    "  return result"
   ]
  },
  {
   "cell_type": "code",
   "execution_count": 6,
   "metadata": {},
   "outputs": [
    {
     "name": "stdout",
     "output_type": "stream",
     "text": [
      "True\n",
      "True\n",
      "False\n",
      "False\n",
      "False\n"
     ]
    }
   ],
   "source": [
    "#24\n",
    "a = str(input('文字を入力してください：'))\n",
    "vowels = ['a','e','i','o','u']\n",
    "for i in vowels:\n",
    "    if i in a:\n",
    "        print('True')\n",
    "    else:\n",
    "        print('False')\n"
   ]
  },
  {
   "cell_type": "code",
   "execution_count": 8,
   "metadata": {},
   "outputs": [
    {
     "name": "stdout",
     "output_type": "stream",
     "text": [
      "False\n",
      "True\n",
      "False\n"
     ]
    }
   ],
   "source": [
    "#24solution\n",
    "def is_vowel(a):\n",
    "    vowels = 'aeiou'\n",
    "    return a in vowels\n",
    "print(is_vowel('c'))\n",
    "print(is_vowel('o'))\n",
    "print(is_vowel('cocoa'))"
   ]
  },
  {
   "cell_type": "code",
   "execution_count": 9,
   "metadata": {},
   "outputs": [
    {
     "name": "stdout",
     "output_type": "stream",
     "text": [
      "True\n",
      "True\n"
     ]
    }
   ],
   "source": [
    "#25\n",
    "def checkstr(group, char):\n",
    "    return char in group\n",
    "print(checkstr([1,5,8,3],3))\n",
    "print(checkstr([1,5,8,3],1))"
   ]
  },
  {
   "cell_type": "code",
   "execution_count": 15,
   "metadata": {},
   "outputs": [
    {
     "data": {
      "text/plain": [
       "True"
      ]
     },
     "execution_count": 15,
     "metadata": {},
     "output_type": "execute_result"
    }
   ],
   "source": [
    "#25solution\n",
    "def checkstr2(group2,n):\n",
    "    for i in group2:\n",
    "        if i == n:\n",
    "            return True  \n",
    "    return False  #for文が終わってから見つからなかった場合FalseをReturn\n",
    "checkstr2([1, 5, 8, 3], 3)"
   ]
  },
  {
   "cell_type": "code",
   "execution_count": 20,
   "metadata": {},
   "outputs": [
    {
     "name": "stdout",
     "output_type": "stream",
     "text": [
      "@\n",
      "@@\n",
      "@@@\n",
      "@@@@\n"
     ]
    }
   ],
   "source": [
    "#26\n",
    "def histogram(group):\n",
    "    if len(group)>1:\n",
    "        for i in group:\n",
    "            print('@'*i)\n",
    "#def to_str(i):\n",
    "#    return '@'*i\n",
    "\n",
    "histogram([1,2,3,4])        \n"
   ]
  },
  {
   "cell_type": "code",
   "execution_count": 24,
   "metadata": {},
   "outputs": [
    {
     "data": {
      "text/plain": [
       "'abc'"
      ]
     },
     "execution_count": 24,
     "metadata": {},
     "output_type": "execute_result"
    }
   ],
   "source": [
    "#27\n",
    "def concatenate(a):\n",
    "    b =''\n",
    "    for i in a:\n",
    "        b = b+i  # b += str(i)\n",
    "    return b\n",
    "concatenate(['a','b','c'])\n"
   ]
  },
  {
   "cell_type": "code",
   "execution_count": 29,
   "metadata": {},
   "outputs": [
    {
     "data": {
      "text/plain": [
       "[2, 4]"
      ]
     },
     "execution_count": 29,
     "metadata": {},
     "output_type": "execute_result"
    }
   ],
   "source": [
    "#28\n",
    "def search_even(group):\n",
    "    res = []\n",
    "    for i in group:\n",
    "        if i == 237:\n",
    "            return res   \n",
    "        elif i%2 == 0:\n",
    "            res.append(i)\n",
    "    return res\n",
    "\n",
    "search_even([1,2,3,4,5,237,6,7,8,9,10])"
   ]
  },
  {
   "cell_type": "code",
   "execution_count": 31,
   "metadata": {},
   "outputs": [
    {
     "name": "stdout",
     "output_type": "stream",
     "text": [
      "White\n",
      "Black\n"
     ]
    }
   ],
   "source": [
    "#29\n",
    "color_list_1 = set([\"White\", \"Black\", \"Red\"])\n",
    "color_list_2 = set([\"Red\", \"Green\"])\n",
    "\n",
    "for i in color_list_1:\n",
    "    if i in color_list_1 and i not in color_list_2:\n",
    "       print(i)"
   ]
  },
  {
   "cell_type": "code",
   "execution_count": 32,
   "metadata": {},
   "outputs": [
    {
     "name": "stdout",
     "output_type": "stream",
     "text": [
      "{'White', 'Black'}\n"
     ]
    }
   ],
   "source": [
    "#29solution\n",
    "print(color_list_1.difference(color_list_2))"
   ]
  },
  {
   "cell_type": "code",
   "execution_count": 33,
   "metadata": {},
   "outputs": [
    {
     "data": {
      "text/plain": [
       "10.0"
      ]
     },
     "execution_count": 33,
     "metadata": {},
     "output_type": "execute_result"
    }
   ],
   "source": [
    "#30   \n",
    "def triangle_area(base,height):\n",
    "    return 1/2 * base *height\n",
    "triangle_area(4,5)"
   ]
  },
  {
   "cell_type": "code",
   "execution_count": 17,
   "metadata": {},
   "outputs": [
    {
     "name": "stdout",
     "output_type": "stream",
     "text": [
      "12\n",
      "1\n",
      "24\n"
     ]
    }
   ],
   "source": [
    "#31\n",
    "def gcd(a,b):\n",
    "    res=[]\n",
    "    for i in range(1,a*b):\n",
    "         if a%i == 0 and b%i == 0:\n",
    "           res.append(i)\n",
    "    return max(res)\n",
    "\n",
    "print(gcd(12,36))\n",
    "print(gcd(12,17))\n",
    "print(gcd(336,360))\n",
    "\n"
   ]
  },
  {
   "cell_type": "code",
   "execution_count": 5,
   "metadata": {},
   "outputs": [
    {
     "name": "stdout",
     "output_type": "stream",
     "text": [
      "15\n",
      "12\n"
     ]
    }
   ],
   "source": [
    "#32 \n",
    "def LCM(a,b):\n",
    "    res_a = []\n",
    "    res_b = []\n",
    "    for i in range(a,a*b+1):\n",
    "        if i%a == 0:\n",
    "          res_a.append(i)\n",
    "    for j in res_a: \n",
    "        if j%b == 0:\n",
    "          res_b.append(j)       \n",
    "    return min(res_b)\n",
    "\n",
    "\n",
    "print(LCM(3,5))\n",
    "print(LCM(6,12))\n"
   ]
  },
  {
   "cell_type": "code",
   "execution_count": 3,
   "metadata": {},
   "outputs": [
    {
     "data": {
      "text/plain": [
       "0"
      ]
     },
     "execution_count": 3,
     "metadata": {},
     "output_type": "execute_result"
    }
   ],
   "source": [
    "#33\n",
    "def thirtythree(a,b,c):\n",
    "    if (a == b) or (a == c) or (b == c):\n",
    "        return 0\n",
    "    return  a+b+c\n",
    "thirtythree(3,3,2)"
   ]
  },
  {
   "cell_type": "code",
   "execution_count": 4,
   "metadata": {},
   "outputs": [
    {
     "name": "stdout",
     "output_type": "stream",
     "text": [
      "20\n",
      "5\n"
     ]
    }
   ],
   "source": [
    "#34\n",
    "def thirtyfour(a,b):\n",
    "    if a+b >= 15 and a+b <=20:\n",
    "        return 20\n",
    "    return a+b\n",
    "\n",
    "print(thirtyfour(7,9))\n",
    "print(thirtyfour(2,3))"
   ]
  },
  {
   "cell_type": "code",
   "execution_count": null,
   "metadata": {},
   "outputs": [],
   "source": [
    "#34solution\n",
    "def sum(a,b):\n",
    "    sum = a+b\n",
    "    if sum in range(15,21):\n",
    "        return 20\n",
    "    else:\n",
    "        return sum"
   ]
  },
  {
   "cell_type": "code",
   "execution_count": 9,
   "metadata": {},
   "outputs": [
    {
     "name": "stdout",
     "output_type": "stream",
     "text": [
      "True\n",
      "True\n",
      "False\n"
     ]
    }
   ],
   "source": [
    "#35\n",
    "def thirtyfive(a,b):\n",
    "    sum = a+b\n",
    "    substr = a-b\n",
    "    if  sum == 5 or substr == 0 or substr == 5:\n",
    "    # if a == b or a+b == 5 or abs(a-b) == 5\n",
    "        return True\n",
    "    else:\n",
    "        return False\n",
    "print(thirtyfive(5,5))\n",
    "print(thirtyfive(3,2))\n",
    "print(thirtyfive(3,7))"
   ]
  },
  {
   "cell_type": "code",
   "execution_count": 11,
   "metadata": {},
   "outputs": [
    {
     "data": {
      "text/plain": [
       "('3', '6')"
      ]
     },
     "execution_count": 11,
     "metadata": {},
     "output_type": "execute_result"
    }
   ],
   "source": [
    "#36\n",
    "def thirtysix(a,b):\n",
    "    if type(a) == int and type(b) == int:\n",
    "        return a+b\n",
    "    return a,b\n",
    "\n",
    "thirtysix('3','6')"
   ]
  },
  {
   "cell_type": "code",
   "execution_count": 15,
   "metadata": {},
   "outputs": [
    {
     "data": {
      "text/plain": [
       "'input must be integer'"
      ]
     },
     "execution_count": 15,
     "metadata": {},
     "output_type": "execute_result"
    }
   ],
   "source": [
    "#36solution\n",
    "def solution(a,b):\n",
    "    if not (isinstance(a,int) and isinstance(b,int)):\n",
    "        return 'input must be integer'\n",
    "    return a+b\n",
    "solution(3,'2')"
   ]
  },
  {
   "cell_type": "code",
   "execution_count": 16,
   "metadata": {},
   "outputs": [
    {
     "name": "stdout",
     "output_type": "stream",
     "text": [
      "Name:KIM\n",
      "Age:29\n",
      "Address:Tokyo\n"
     ]
    }
   ],
   "source": [
    "#37\n",
    "def employee():\n",
    "    print('Name:KIM\\nAge:29\\nAddress:Tokyo')\n",
    "employee()"
   ]
  },
  {
   "cell_type": "code",
   "execution_count": 18,
   "metadata": {},
   "outputs": [
    {
     "name": "stdout",
     "output_type": "stream",
     "text": [
      "Name:KIM\n",
      "Age:29\n",
      "Address:Tokyo\n"
     ]
    }
   ],
   "source": [
    "#37solution\n",
    "def employee2():\n",
    "    name,age = 'KIM',29\n",
    "    address = 'Tokyo'\n",
    "    print('Name:{}\\nAge:{}\\nAddress:{}'.format(name,age,address))\n",
    "employee2()"
   ]
  },
  {
   "cell_type": "code",
   "execution_count": 19,
   "metadata": {},
   "outputs": [
    {
     "data": {
      "text/plain": [
       "49"
      ]
     },
     "execution_count": 19,
     "metadata": {},
     "output_type": "execute_result"
    }
   ],
   "source": [
    "#38\n",
    "def thirtyeight(x,y):\n",
    "    return (x+y)**2\n",
    "thirtyeight(4,3)"
   ]
  },
  {
   "cell_type": "code",
   "execution_count": 5,
   "metadata": {},
   "outputs": [
    {
     "data": {
      "text/plain": [
       "12722.79"
      ]
     },
     "execution_count": 5,
     "metadata": {},
     "output_type": "execute_result"
    }
   ],
   "source": [
    "#39\n",
    "def thirtynine(amt,interest,years):\n",
    "    for i in range(1,years+1):\n",
    "        amt = amt*(1+interest*0.01)\n",
    "    return round(amt,2)\n",
    "thirtynine(10000,3.5,7)"
   ]
  },
  {
   "cell_type": "code",
   "execution_count": 7,
   "metadata": {},
   "outputs": [
    {
     "data": {
      "text/plain": [
       "6.324555320336759"
      ]
     },
     "execution_count": 7,
     "metadata": {},
     "output_type": "execute_result"
    }
   ],
   "source": [
    "#40\n",
    "#일차함수 피타고라스 공식 참고\n",
    "import math\n",
    "def fourty(x1,y1,x2,y2):\n",
    "   pq = math.sqrt((x2-x1)**2 +(y2-y1)**2)\n",
    "   return pq\n",
    "fourty(4,0,6,6)"
   ]
  },
  {
   "cell_type": "code",
   "execution_count": 9,
   "metadata": {},
   "outputs": [
    {
     "name": "stdout",
     "output_type": "stream",
     "text": [
      "Yes it is a file\n"
     ]
    }
   ],
   "source": [
    "#41\n",
    "from pathlib import Path\n",
    "my_file = Path(\"C:\\\\Users\\\\ST-USER\\\\Desktop\\\\ipynb_file\\\\MyLeetHub\\\\example.txt\")    # Path는 string을 return하는것 아님.window에서만 사용하능함.\n",
    "if my_file.is_file():\n",
    "  print(\"Yes it is a file\")\n"
   ]
  },
  {
   "cell_type": "code",
   "execution_count": 11,
   "metadata": {},
   "outputs": [
    {
     "name": "stdout",
     "output_type": "stream",
     "text": [
      "File found!\n",
      "True\n",
      "True\n"
     ]
    }
   ],
   "source": [
    "#solution41\n",
    "#1\n",
    "my_file = open(\"C:\\\\Users\\\\ST-USER\\\\Desktop\\\\ipynb_file\\\\MyLeetHub\\\\example.txt\")\n",
    "try:\n",
    "   my_file.close()\n",
    "   print(\"File found!\")\n",
    "except FileNotFoundError:\n",
    "   print(\"File not found!\")\n",
    "\n",
    "\n",
    "import os.path\n",
    "#2\n",
    "print(os.path.isfile(\"C:\\\\Users\\\\ST-USER\\\\Desktop\\\\ipynb_file\\\\MyLeetHub\\\\example.txt\"))\n",
    "#3\n",
    "print(os.path.exists(\"C:\\\\Users\\\\ST-USER\\\\Desktop\\\\ipynb_file\\\\MyLeetHub\\\\example.txt\"))"
   ]
  },
  {
   "cell_type": "code",
   "execution_count": 14,
   "metadata": {},
   "outputs": [
    {
     "name": "stdout",
     "output_type": "stream",
     "text": [
      "('64bit', 'WindowsPE')\n"
     ]
    }
   ],
   "source": [
    "#42\n",
    "import platform\n",
    "print(platform.architecture())"
   ]
  },
  {
   "cell_type": "code",
   "execution_count": 17,
   "metadata": {},
   "outputs": [
    {
     "name": "stdout",
     "output_type": "stream",
     "text": [
      "nt\n",
      "Windows\n",
      "10\n",
      "10.0.19044\n"
     ]
    }
   ],
   "source": [
    "#43\n",
    "import platform\n",
    "import os\n",
    "print(os.name)\n",
    "print(platform.system())\n",
    "print(platform.release())\n",
    "print(platform.version())"
   ]
  },
  {
   "cell_type": "code",
   "execution_count": 18,
   "metadata": {},
   "outputs": [
    {
     "data": {
      "text/plain": [
       "['c:\\\\Users\\\\ST-USER\\\\AppData\\\\Local\\\\Programs\\\\Python\\\\Python310',\n",
       " 'c:\\\\Users\\\\ST-USER\\\\AppData\\\\Local\\\\Programs\\\\Python\\\\Python310\\\\lib\\\\site-packages']"
      ]
     },
     "execution_count": 18,
     "metadata": {},
     "output_type": "execute_result"
    }
   ],
   "source": [
    "#44\n",
    "import site\n",
    "site.getsitepackages()"
   ]
  },
  {
   "cell_type": "code",
   "execution_count": 22,
   "metadata": {},
   "outputs": [
    {
     "ename": "FileNotFoundError",
     "evalue": "[WinError 2] 지정된 파일을 찾을 수 없습니다",
     "output_type": "error",
     "traceback": [
      "\u001b[1;31m---------------------------------------------------------------------------\u001b[0m",
      "\u001b[1;31mFileNotFoundError\u001b[0m                         Traceback (most recent call last)",
      "Cell \u001b[1;32mIn [22], line 7\u001b[0m\n\u001b[0;32m      2\u001b[0m \u001b[39m'''\u001b[39;00m\n\u001b[0;32m      3\u001b[0m \u001b[39m subprocess 모듈은 파이썬에서 쉘 명령을 실행할 수 있게 해주는 라이브러리이다. \u001b[39;00m\n\u001b[0;32m      4\u001b[0m \u001b[39m os 모듈의 os.system을 통해서도 실행 가능하지만 subprocess 모듈을 통해 좀 더 많은 기능을 이용할 수 있다.\u001b[39;00m\n\u001b[0;32m      5\u001b[0m \u001b[39m'''\u001b[39;00m\n\u001b[0;32m      6\u001b[0m \u001b[39mfrom\u001b[39;00m \u001b[39msubprocess\u001b[39;00m \u001b[39mimport\u001b[39;00m call\n\u001b[1;32m----> 7\u001b[0m call([\u001b[39m\"\u001b[39;49m\u001b[39mls\u001b[39;49m\u001b[39m\"\u001b[39;49m, \u001b[39m\"\u001b[39;49m\u001b[39m-1\u001b[39;49m\u001b[39m\"\u001b[39;49m])\n",
      "File \u001b[1;32mc:\\Users\\ST-USER\\AppData\\Local\\Programs\\Python\\Python310\\lib\\subprocess.py:345\u001b[0m, in \u001b[0;36mcall\u001b[1;34m(timeout, *popenargs, **kwargs)\u001b[0m\n\u001b[0;32m    337\u001b[0m \u001b[39mdef\u001b[39;00m \u001b[39mcall\u001b[39m(\u001b[39m*\u001b[39mpopenargs, timeout\u001b[39m=\u001b[39m\u001b[39mNone\u001b[39;00m, \u001b[39m*\u001b[39m\u001b[39m*\u001b[39mkwargs):\n\u001b[0;32m    338\u001b[0m     \u001b[39m\"\"\"Run command with arguments.  Wait for command to complete or\u001b[39;00m\n\u001b[0;32m    339\u001b[0m \u001b[39m    timeout, then return the returncode attribute.\u001b[39;00m\n\u001b[0;32m    340\u001b[0m \n\u001b[1;32m   (...)\u001b[0m\n\u001b[0;32m    343\u001b[0m \u001b[39m    retcode = call([\"ls\", \"-l\"])\u001b[39;00m\n\u001b[0;32m    344\u001b[0m \u001b[39m    \"\"\"\u001b[39;00m\n\u001b[1;32m--> 345\u001b[0m     \u001b[39mwith\u001b[39;00m Popen(\u001b[39m*\u001b[39mpopenargs, \u001b[39m*\u001b[39m\u001b[39m*\u001b[39mkwargs) \u001b[39mas\u001b[39;00m p:\n\u001b[0;32m    346\u001b[0m         \u001b[39mtry\u001b[39;00m:\n\u001b[0;32m    347\u001b[0m             \u001b[39mreturn\u001b[39;00m p\u001b[39m.\u001b[39mwait(timeout\u001b[39m=\u001b[39mtimeout)\n",
      "File \u001b[1;32mc:\\Users\\ST-USER\\AppData\\Local\\Programs\\Python\\Python310\\lib\\subprocess.py:966\u001b[0m, in \u001b[0;36mPopen.__init__\u001b[1;34m(self, args, bufsize, executable, stdin, stdout, stderr, preexec_fn, close_fds, shell, cwd, env, universal_newlines, startupinfo, creationflags, restore_signals, start_new_session, pass_fds, user, group, extra_groups, encoding, errors, text, umask, pipesize)\u001b[0m\n\u001b[0;32m    962\u001b[0m         \u001b[39mif\u001b[39;00m \u001b[39mself\u001b[39m\u001b[39m.\u001b[39mtext_mode:\n\u001b[0;32m    963\u001b[0m             \u001b[39mself\u001b[39m\u001b[39m.\u001b[39mstderr \u001b[39m=\u001b[39m io\u001b[39m.\u001b[39mTextIOWrapper(\u001b[39mself\u001b[39m\u001b[39m.\u001b[39mstderr,\n\u001b[0;32m    964\u001b[0m                     encoding\u001b[39m=\u001b[39mencoding, errors\u001b[39m=\u001b[39merrors)\n\u001b[1;32m--> 966\u001b[0m     \u001b[39mself\u001b[39;49m\u001b[39m.\u001b[39;49m_execute_child(args, executable, preexec_fn, close_fds,\n\u001b[0;32m    967\u001b[0m                         pass_fds, cwd, env,\n\u001b[0;32m    968\u001b[0m                         startupinfo, creationflags, shell,\n\u001b[0;32m    969\u001b[0m                         p2cread, p2cwrite,\n\u001b[0;32m    970\u001b[0m                         c2pread, c2pwrite,\n\u001b[0;32m    971\u001b[0m                         errread, errwrite,\n\u001b[0;32m    972\u001b[0m                         restore_signals,\n\u001b[0;32m    973\u001b[0m                         gid, gids, uid, umask,\n\u001b[0;32m    974\u001b[0m                         start_new_session)\n\u001b[0;32m    975\u001b[0m \u001b[39mexcept\u001b[39;00m:\n\u001b[0;32m    976\u001b[0m     \u001b[39m# Cleanup if the child failed starting.\u001b[39;00m\n\u001b[0;32m    977\u001b[0m     \u001b[39mfor\u001b[39;00m f \u001b[39min\u001b[39;00m \u001b[39mfilter\u001b[39m(\u001b[39mNone\u001b[39;00m, (\u001b[39mself\u001b[39m\u001b[39m.\u001b[39mstdin, \u001b[39mself\u001b[39m\u001b[39m.\u001b[39mstdout, \u001b[39mself\u001b[39m\u001b[39m.\u001b[39mstderr)):\n",
      "File \u001b[1;32mc:\\Users\\ST-USER\\AppData\\Local\\Programs\\Python\\Python310\\lib\\subprocess.py:1435\u001b[0m, in \u001b[0;36mPopen._execute_child\u001b[1;34m(self, args, executable, preexec_fn, close_fds, pass_fds, cwd, env, startupinfo, creationflags, shell, p2cread, p2cwrite, c2pread, c2pwrite, errread, errwrite, unused_restore_signals, unused_gid, unused_gids, unused_uid, unused_umask, unused_start_new_session)\u001b[0m\n\u001b[0;32m   1433\u001b[0m \u001b[39m# Start the process\u001b[39;00m\n\u001b[0;32m   1434\u001b[0m \u001b[39mtry\u001b[39;00m:\n\u001b[1;32m-> 1435\u001b[0m     hp, ht, pid, tid \u001b[39m=\u001b[39m _winapi\u001b[39m.\u001b[39;49mCreateProcess(executable, args,\n\u001b[0;32m   1436\u001b[0m                              \u001b[39m# no special security\u001b[39;49;00m\n\u001b[0;32m   1437\u001b[0m                              \u001b[39mNone\u001b[39;49;00m, \u001b[39mNone\u001b[39;49;00m,\n\u001b[0;32m   1438\u001b[0m                              \u001b[39mint\u001b[39;49m(\u001b[39mnot\u001b[39;49;00m close_fds),\n\u001b[0;32m   1439\u001b[0m                              creationflags,\n\u001b[0;32m   1440\u001b[0m                              env,\n\u001b[0;32m   1441\u001b[0m                              cwd,\n\u001b[0;32m   1442\u001b[0m                              startupinfo)\n\u001b[0;32m   1443\u001b[0m \u001b[39mfinally\u001b[39;00m:\n\u001b[0;32m   1444\u001b[0m     \u001b[39m# Child is launched. Close the parent's copy of those pipe\u001b[39;00m\n\u001b[0;32m   1445\u001b[0m     \u001b[39m# handles that only the child should have open.  You need\u001b[39;00m\n\u001b[1;32m   (...)\u001b[0m\n\u001b[0;32m   1448\u001b[0m     \u001b[39m# pipe will not close when the child process exits and the\u001b[39;00m\n\u001b[0;32m   1449\u001b[0m     \u001b[39m# ReadFile will hang.\u001b[39;00m\n\u001b[0;32m   1450\u001b[0m     \u001b[39mself\u001b[39m\u001b[39m.\u001b[39m_close_pipe_fds(p2cread, p2cwrite,\n\u001b[0;32m   1451\u001b[0m                          c2pread, c2pwrite,\n\u001b[0;32m   1452\u001b[0m                          errread, errwrite)\n",
      "\u001b[1;31mFileNotFoundError\u001b[0m: [WinError 2] 지정된 파일을 찾을 수 없습니다"
     ]
    }
   ],
   "source": [
    "#45\n",
    "'''\n",
    " subprocess 모듈은 파이썬에서 쉘 명령을 실행할 수 있게 해주는 라이브러리이다. \n",
    " os 모듈의 os.system을 통해서도 실행 가능하지만 subprocess 모듈을 통해 좀 더 많은 기능을 이용할 수 있다.\n",
    "'''\n",
    "from subprocess import call\n",
    "call([\"ls\", \"-1\"])"
   ]
  },
  {
   "cell_type": "code",
   "execution_count": 28,
   "metadata": {},
   "outputs": [
    {
     "name": "stdout",
     "output_type": "stream",
     "text": [
      "C:\\Users\\ST-USER\\Desktop\\ipynb_file\\MyLeetHub\\__file__\n"
     ]
    }
   ],
   "source": [
    "#46\n",
    "import os\n",
    "print(os.path.realpath('__file__'))"
   ]
  },
  {
   "cell_type": "code",
   "execution_count": null,
   "metadata": {},
   "outputs": [],
   "source": [
    "#47\n",
    "\n"
   ]
  },
  {
   "cell_type": "code",
   "execution_count": null,
   "metadata": {},
   "outputs": [],
   "source": [
    "#48"
   ]
  },
  {
   "cell_type": "code",
   "execution_count": null,
   "metadata": {},
   "outputs": [],
   "source": [
    "#49"
   ]
  },
  {
   "cell_type": "code",
   "execution_count": null,
   "metadata": {},
   "outputs": [],
   "source": [
    "#50"
   ]
  },
  {
   "cell_type": "code",
   "execution_count": null,
   "metadata": {},
   "outputs": [],
   "source": [
    "#51"
   ]
  }
 ],
 "metadata": {
  "kernelspec": {
   "display_name": "Python 3.10.4 64-bit",
   "language": "python",
   "name": "python3"
  },
  "language_info": {
   "codemirror_mode": {
    "name": "ipython",
    "version": 3
   },
   "file_extension": ".py",
   "mimetype": "text/x-python",
   "name": "python",
   "nbconvert_exporter": "python",
   "pygments_lexer": "ipython3",
   "version": "3.10.4"
  },
  "orig_nbformat": 4,
  "vscode": {
   "interpreter": {
    "hash": "a7b95a306ffc61b3706851dfbf8ca34df9e85861ff9e3ba44143741b0ab21e89"
   }
  }
 },
 "nbformat": 4,
 "nbformat_minor": 2
}
