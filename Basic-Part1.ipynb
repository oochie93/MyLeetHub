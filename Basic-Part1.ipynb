{
 "cells": [
  {
   "cell_type": "code",
   "execution_count": 2,
   "metadata": {},
   "outputs": [
    {
     "name": "stdout",
     "output_type": "stream",
     "text": [
      "Twinke, twinkle, little star, \n",
      " How I wonder what you are! \n",
      " Up above the world so high, \n",
      " Like a diamond in the sky.\n",
      "Twinkle, twinkle, little star, \n",
      "\tHow I wonder what you are! \n",
      "\t\tUp above the world so high, \n",
      "\t\tLike a diamond in the sky. \n",
      "Twinkle, twinkle, little star, \n",
      "\tHow I wonder what you are!\n"
     ]
    }
   ],
   "source": [
    "#1\n",
    "print('Twinke, twinkle, little star, \\n How I wonder what you are! \\n Up above the world so high, \\n Like a diamond in the sky.')\n",
    "#solution\n",
    "print(\"Twinkle, twinkle, little star, \\n\\tHow I wonder what you are! \\n\\t\\tUp above the world so high, \\n\\t\\tLike a diamond in the sky. \\nTwinkle, twinkle, little star, \\n\\tHow I wonder what you are!\")"
   ]
  },
  {
   "cell_type": "code",
   "execution_count": 3,
   "metadata": {},
   "outputs": [
    {
     "name": "stdout",
     "output_type": "stream",
     "text": [
      "Python version\n",
      "3.10.4 (tags/v3.10.4:9d38120, Mar 23 2022, 23:13:41) [MSC v.1929 64 bit (AMD64)]\n",
      "Version info.\n",
      "sys.version_info(major=3, minor=10, micro=4, releaselevel='final', serial=0)\n"
     ]
    }
   ],
   "source": [
    "#2\n",
    "import sys #インタプリタで使用・管理している変数や、インタプリタの動作に深く関連する関数を定義\n",
    "print(\"Python version\")\n",
    "print (sys.version)\n",
    "print(\"Version info.\")\n",
    "print (sys.version_info)"
   ]
  },
  {
   "cell_type": "code",
   "execution_count": 5,
   "metadata": {},
   "outputs": [
    {
     "name": "stdout",
     "output_type": "stream",
     "text": [
      "現在の日時： 2022-11-02 22:54:28\n"
     ]
    }
   ],
   "source": [
    "#3\n",
    "import datetime\n",
    "now = datetime.datetime.now() #インスタンス生成\n",
    "print('現在の日時：',now.strftime('%Y-%m-%d %H:%M:%S'))\n"
   ]
  },
  {
   "cell_type": "code",
   "execution_count": 5,
   "metadata": {},
   "outputs": [
    {
     "name": "stdout",
     "output_type": "stream",
     "text": [
      "3.8013271108436504\n"
     ]
    }
   ],
   "source": [
    "#4\n",
    "import math\n",
    "r = float(input(\"半径を入力してください:\"))\n",
    "print(r**2*math.pi)"
   ]
  },
  {
   "cell_type": "code",
   "execution_count": 6,
   "metadata": {},
   "outputs": [
    {
     "name": "stdout",
     "output_type": "stream",
     "text": [
      "kim   kyoungah\n"
     ]
    }
   ],
   "source": [
    "#5\n",
    "first_name = str(input(\"名前を入力してください：\"))\n",
    "last_name = str(input(\"名字をを入力してください：\"))\n",
    "print(last_name , \" \",first_name)"
   ]
  },
  {
   "cell_type": "code",
   "execution_count": 31,
   "metadata": {},
   "outputs": [
    {
     "name": "stdout",
     "output_type": "stream",
     "text": [
      "List: ['3', '5', '7', '23']\n",
      "Tuple: ('3', '5', '7', '23')\n"
     ]
    }
   ],
   "source": [
    "#6\n",
    "a = input('数字を入力して下さい：')\n",
    "a = a.split(',')\n",
    "print('List:', list(a) )\n",
    "print('Tuple:', tuple(a))"
   ]
  },
  {
   "cell_type": "code",
   "execution_count": 40,
   "metadata": {},
   "outputs": [
    {
     "name": "stdout",
     "output_type": "stream",
     "text": [
      "java\n"
     ]
    }
   ],
   "source": [
    "#7\n",
    "inp = input('ファイル名を入力してください：')\n",
    "outp = inp.rsplit('.')\n",
    "outp = outp[1]\n",
    "print(outp)"
   ]
  },
  {
   "cell_type": "code",
   "execution_count": 45,
   "metadata": {},
   "outputs": [
    {
     "name": "stdout",
     "output_type": "stream",
     "text": [
      "Red Black\n"
     ]
    }
   ],
   "source": [
    "#8\n",
    "color_list = [\"Red\",\"Green\",\"White\" ,\"Black\"]\n",
    "print(color_list[0],color_list[-1])"
   ]
  },
  {
   "cell_type": "code",
   "execution_count": 59,
   "metadata": {},
   "outputs": [
    {
     "name": "stdout",
     "output_type": "stream",
     "text": [
      "試験開始日は 11 / 12 / 2014\n"
     ]
    }
   ],
   "source": [
    "#9\n",
    "exam_st_date = (11, 12, 2014)\n",
    "#exam_st_date = list(exam_st_date)\n",
    "#exam_st_date = str(exam_st_date).replace(',','/')\n",
    "\n",
    "print('試験開始日は %d / %d / %d' %exam_st_date)"
   ]
  },
  {
   "cell_type": "code",
   "execution_count": 65,
   "metadata": {},
   "outputs": [
    {
     "data": {
      "text/plain": [
       "615"
      ]
     },
     "execution_count": 65,
     "metadata": {},
     "output_type": "execute_result"
    }
   ],
   "source": [
    "#10\n",
    "a = input('数字を入力してください：')\n",
    "a = str(a)\n",
    "a2 = a + a\n",
    "a3 = a + a2\n",
    "int(a) + int(a2) + int(a3)"
   ]
  },
  {
   "cell_type": "code",
   "execution_count": 74,
   "metadata": {},
   "outputs": [
    {
     "data": {
      "text/plain": [
       "'Return the absolute value of the argument.'"
      ]
     },
     "execution_count": 74,
     "metadata": {},
     "output_type": "execute_result"
    }
   ],
   "source": [
    "#11\n",
    "abs.__doc__  #return built-in function"
   ]
  },
  {
   "cell_type": "code",
   "execution_count": 82,
   "metadata": {},
   "outputs": [
    {
     "data": {
      "text/plain": [
       "'   November 2022\\nMo Tu We Th Fr Sa Su\\n    1  2  3  4  5  6\\n 7  8  9 10 11 12 13\\n14 15 16 17 18 19 20\\n21 22 23 24 25 26 27\\n28 29 30\\n'"
      ]
     },
     "execution_count": 82,
     "metadata": {},
     "output_type": "execute_result"
    }
   ],
   "source": [
    "#12\n",
    "import calendar\n",
    "calendar.month(2022,11)"
   ]
  },
  {
   "cell_type": "code",
   "execution_count": 23,
   "metadata": {},
   "outputs": [
    {
     "name": "stdout",
     "output_type": "stream",
     "text": [
      "9 days\n",
      "9 days, 0:00:00\n"
     ]
    }
   ],
   "source": [
    "#14\n",
    "import datetime\n",
    "a = (2014, 7, 2)\n",
    "b = (2014, 7, 11)\n",
    "a1 = list(a)\n",
    "b1 = list(b)\n",
    "print(b1[2]-a1[2],'days')\n",
    "#Solution\n",
    "from datetime import date\n",
    "print(date(2014,7,11) - date(2014,7,2))"
   ]
  },
  {
   "cell_type": "code",
   "execution_count": 24,
   "metadata": {},
   "outputs": [
    {
     "data": {
      "text/plain": [
       "904.7786842338603"
      ]
     },
     "execution_count": 24,
     "metadata": {},
     "output_type": "execute_result"
    }
   ],
   "source": [
    "#15\n",
    "#The volume of a sphere = 4/3 𝜋 r³\n",
    "import math\n",
    "r = 6\n",
    "VoS = 4/3 * math.pi * r**3\n",
    "VoS"
   ]
  },
  {
   "cell_type": "code",
   "execution_count": 29,
   "metadata": {},
   "outputs": [
    {
     "name": "stdout",
     "output_type": "stream",
     "text": [
      "46.0\n"
     ]
    }
   ],
   "source": [
    "#16\n",
    "a = float(input('数字を入力してください：'))\n",
    "\n",
    "if a>17:\n",
    "    print(2*abs(a-17))\n",
    "else:\n",
    "    print('17より大きい数字を入れて下さい')\n",
    "\n",
    "\n",
    "'''\n",
    "#Solution\n",
    "def difference(n):\n",
    "    if n <= 17:\n",
    "        return 17 - n\n",
    "    else:\n",
    "        return (n - 17) * 2 \n",
    "'''"
   ]
  },
  {
   "cell_type": "code",
   "execution_count": 31,
   "metadata": {},
   "outputs": [
    {
     "name": "stdout",
     "output_type": "stream",
     "text": [
      "True\n"
     ]
    }
   ],
   "source": [
    "#17\n",
    "a = 1/15\n",
    "print(a < 1/10 and a> 1/20)\n",
    "#솔루션이랑 답 다름 이해안감"
   ]
  },
  {
   "cell_type": "code",
   "execution_count": 33,
   "metadata": {},
   "outputs": [
    {
     "name": "stdout",
     "output_type": "stream",
     "text": [
      "7\n"
     ]
    }
   ],
   "source": [
    "#18\n",
    "def threenums(a,b,c):\n",
    "    if a == b and a == c:\n",
    "        print(3*(a+b+c))\n",
    "    else:\n",
    "        print(a+b+c)\n",
    "threenums(1,3,3)"
   ]
  },
  {
   "cell_type": "code",
   "execution_count": 42,
   "metadata": {},
   "outputs": [
    {
     "name": "stdout",
     "output_type": "stream",
     "text": [
      "Isme\n",
      "Isyou\n"
     ]
    }
   ],
   "source": [
    "#19\n",
    "def addstring(a):\n",
    "    if a[0] == 'I' and a[1] == 's':\n",
    "        return a\n",
    "    else:\n",
    "        return 'Is'+a\n",
    "\n",
    "print(addstring('me'))\n",
    "print(addstring('Isyou')) \n",
    "\n",
    "#Solution\n",
    "def new_string(str):\n",
    "  if len(str) >= 2 and str[:2] == \"Is\":\n",
    "    return str\n",
    "  return \"Is\" + str"
   ]
  },
  {
   "cell_type": "code",
   "execution_count": 49,
   "metadata": {},
   "outputs": [
    {
     "data": {
      "text/plain": [
       "'testtesttest'"
      ]
     },
     "execution_count": 49,
     "metadata": {},
     "output_type": "execute_result"
    }
   ],
   "source": [
    "#20\n",
    "def numcopy(str,n):\n",
    "    if n>0:\n",
    "      return str*n\n",
    "    else:\n",
    "        return str\n",
    "numcopy('test',3)"
   ]
  },
  {
   "cell_type": "code",
   "execution_count": 53,
   "metadata": {},
   "outputs": [
    {
     "name": "stdout",
     "output_type": "stream",
     "text": [
      "odd\n"
     ]
    }
   ],
   "source": [
    "#21\n",
    "n = int(input('数字を入力してください:'))\n",
    "if n%2==0:\n",
    "    print('even')\n",
    "elif n%2==1:\n",
    "    print('odd')\n",
    "else:\n",
    "    print('整数を入力してください')\n",
    "\n"
   ]
  },
  {
   "cell_type": "code",
   "execution_count": 57,
   "metadata": {},
   "outputs": [
    {
     "data": {
      "text/plain": [
       "2"
      ]
     },
     "execution_count": 57,
     "metadata": {},
     "output_type": "execute_result"
    }
   ],
   "source": [
    "#22\n",
    "def countfour(a):\n",
    "    b=[]\n",
    "    for i in a:\n",
    "        if i == 4:\n",
    "            b.append(i)\n",
    "    return len(b)\n",
    "countfour([4,2,3,4])\n",
    "\n",
    "#solution\n",
    "def list_count_4(nums):\n",
    "  count = 0  \n",
    "  for num in nums:\n",
    "    if num == 4:\n",
    "      count = count + 1\n",
    "\n",
    "  return count"
   ]
  },
  {
   "cell_type": "code",
   "execution_count": 60,
   "metadata": {},
   "outputs": [
    {
     "name": "stdout",
     "output_type": "stream",
     "text": [
      "hh\n",
      "hehe\n"
     ]
    }
   ],
   "source": [
    "#23\n",
    "def twenythree(str,n):\n",
    "    if len(str)<2:\n",
    "        return n*str\n",
    "    else:\n",
    "        return n*str[:2]\n",
    "print(twenythree('h',2))\n",
    "print(twenythree('hello',2))"
   ]
  },
  {
   "cell_type": "code",
   "execution_count": null,
   "metadata": {},
   "outputs": [],
   "source": [
    "#23 solution\n",
    "def substring_copy(str, n):\n",
    "  flen = 2\n",
    "  if flen > len(str):\n",
    "    flen = len(str)\n",
    "  substr = str[:flen]\n",
    "  \n",
    "  result = \"\"\n",
    "  for i in range(n):\n",
    "    result = result + substr\n",
    "  return result"
   ]
  }
 ],
 "metadata": {
  "kernelspec": {
   "display_name": "Python 3.10.4 64-bit",
   "language": "python",
   "name": "python3"
  },
  "language_info": {
   "codemirror_mode": {
    "name": "ipython",
    "version": 3
   },
   "file_extension": ".py",
   "mimetype": "text/x-python",
   "name": "python",
   "nbconvert_exporter": "python",
   "pygments_lexer": "ipython3",
   "version": "3.10.4"
  },
  "orig_nbformat": 4,
  "vscode": {
   "interpreter": {
    "hash": "a7b95a306ffc61b3706851dfbf8ca34df9e85861ff9e3ba44143741b0ab21e89"
   }
  }
 },
 "nbformat": 4,
 "nbformat_minor": 2
}
