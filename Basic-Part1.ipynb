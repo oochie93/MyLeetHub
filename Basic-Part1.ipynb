{
 "cells": [
  {
   "cell_type": "code",
   "execution_count": 2,
   "metadata": {},
   "outputs": [
    {
     "name": "stdout",
     "output_type": "stream",
     "text": [
      "Twinke, twinkle, little star, \n",
      " How I wonder what you are! \n",
      " Up above the world so high, \n",
      " Like a diamond in the sky.\n",
      "Twinkle, twinkle, little star, \n",
      "\tHow I wonder what you are! \n",
      "\t\tUp above the world so high, \n",
      "\t\tLike a diamond in the sky. \n",
      "Twinkle, twinkle, little star, \n",
      "\tHow I wonder what you are!\n"
     ]
    }
   ],
   "source": [
    "#1\n",
    "print('Twinke, twinkle, little star, \\n How I wonder what you are! \\n Up above the world so high, \\n Like a diamond in the sky.')\n",
    "#solution\n",
    "print(\"Twinkle, twinkle, little star, \\n\\tHow I wonder what you are! \\n\\t\\tUp above the world so high, \\n\\t\\tLike a diamond in the sky. \\nTwinkle, twinkle, little star, \\n\\tHow I wonder what you are!\")"
   ]
  },
  {
   "cell_type": "code",
   "execution_count": 3,
   "metadata": {},
   "outputs": [
    {
     "name": "stdout",
     "output_type": "stream",
     "text": [
      "Python version\n",
      "3.10.4 (tags/v3.10.4:9d38120, Mar 23 2022, 23:13:41) [MSC v.1929 64 bit (AMD64)]\n",
      "Version info.\n",
      "sys.version_info(major=3, minor=10, micro=4, releaselevel='final', serial=0)\n"
     ]
    }
   ],
   "source": [
    "#2\n",
    "import sys #インタプリタで使用・管理している変数や、インタプリタの動作に深く関連する関数を定義\n",
    "print(\"Python version\")\n",
    "print (sys.version)\n",
    "print(\"Version info.\")\n",
    "print (sys.version_info)"
   ]
  },
  {
   "cell_type": "code",
   "execution_count": 5,
   "metadata": {},
   "outputs": [
    {
     "name": "stdout",
     "output_type": "stream",
     "text": [
      "現在の日時： 2022-11-02 22:54:28\n"
     ]
    }
   ],
   "source": [
    "#3\n",
    "import datetime\n",
    "now = datetime.datetime.now() #インスタンス生成\n",
    "print('現在の日時：',now.strftime('%Y-%m-%d %H:%M:%S'))\n"
   ]
  },
  {
   "cell_type": "code",
   "execution_count": 5,
   "metadata": {},
   "outputs": [
    {
     "name": "stdout",
     "output_type": "stream",
     "text": [
      "3.8013271108436504\n"
     ]
    }
   ],
   "source": [
    "#4\n",
    "import math\n",
    "r = float(input(\"半径を入力してください:\"))\n",
    "print(r**2*math.pi)"
   ]
  },
  {
   "cell_type": "code",
   "execution_count": 6,
   "metadata": {},
   "outputs": [
    {
     "name": "stdout",
     "output_type": "stream",
     "text": [
      "kim   kyoungah\n"
     ]
    }
   ],
   "source": [
    "#5\n",
    "first_name = str(input(\"名前を入力してください：\"))\n",
    "last_name = str(input(\"名字をを入力してください：\"))\n",
    "print(last_name , \" \",first_name)"
   ]
  },
  {
   "cell_type": "code",
   "execution_count": null,
   "metadata": {},
   "outputs": [],
   "source": [
    "#6\n"
   ]
  }
 ],
 "metadata": {
  "kernelspec": {
   "display_name": "Python 3.10.4 64-bit",
   "language": "python",
   "name": "python3"
  },
  "language_info": {
   "codemirror_mode": {
    "name": "ipython",
    "version": 3
   },
   "file_extension": ".py",
   "mimetype": "text/x-python",
   "name": "python",
   "nbconvert_exporter": "python",
   "pygments_lexer": "ipython3",
   "version": "3.10.4"
  },
  "orig_nbformat": 4,
  "vscode": {
   "interpreter": {
    "hash": "a7b95a306ffc61b3706851dfbf8ca34df9e85861ff9e3ba44143741b0ab21e89"
   }
  }
 },
 "nbformat": 4,
 "nbformat_minor": 2
}
